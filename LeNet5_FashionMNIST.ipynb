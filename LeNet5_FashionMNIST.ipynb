{
  "nbformat": 4,
  "nbformat_minor": 0,
  "metadata": {
    "colab": {
      "name": "LeNet5-FashionMNIST.ipynb",
      "version": "0.3.2",
      "provenance": [],
      "include_colab_link": true
    },
    "kernelspec": {
      "name": "python3",
      "display_name": "Python 3"
    },
    "accelerator": "GPU"
  },
  "cells": [
    {
      "cell_type": "markdown",
      "metadata": {
        "id": "view-in-github",
        "colab_type": "text"
      },
      "source": [
        "<a href=\"https://colab.research.google.com/github/Shubhammawa/Pytorch-Tutorial/blob/master/LeNet5_FashionMNIST.ipynb\" target=\"_parent\"><img src=\"https://colab.research.google.com/assets/colab-badge.svg\" alt=\"Open In Colab\"/></a>"
      ]
    },
    {
      "cell_type": "code",
      "metadata": {
        "id": "PPaTLWSSlTH-",
        "colab_type": "code",
        "colab": {}
      },
      "source": [
        "import numpy as np\n",
        "import torch\n",
        "import matplotlib.pyplot as plt\n",
        "import torch.nn as nn\n",
        "from torchvision import transforms,datasets\n",
        "import torch.optim as optim\n",
        "from torch.autograd import Variable\n",
        "import torchvision\n",
        "import torch.nn.functional as F\n",
        "import time\n",
        "import scipy"
      ],
      "execution_count": 0,
      "outputs": []
    },
    {
      "cell_type": "code",
      "metadata": {
        "id": "CgrXk4aLnu6E",
        "colab_type": "code",
        "outputId": "fd465ad9-1b9f-40d9-912c-1fa6d5ecfa15",
        "colab": {
          "base_uri": "https://localhost:8080/",
          "height": 280
        }
      },
      "source": [
        "apply_transform = transforms.Compose([transforms.Resize(28),transforms.ToTensor()])\n",
        "BatchSize = 512 # change according to system specs\n",
        "\n",
        "trainset = datasets.FashionMNIST(root='./FashionMNIST', train = True, download=True, transform=apply_transform)\n",
        "trainLoader = torch.utils.data.DataLoader(trainset, batch_size=BatchSize, shuffle=True, num_workers=4) # Creating dataloader\n",
        "\n",
        "testset = datasets.FashionMNIST(root='./FashionMNIST', train = False, download=True, transform=apply_transform)\n",
        "testLoader = torch.utils.data.DataLoader(testset, batch_size=BatchSize, shuffle=False, num_workers=4) # Creating dataloader"
      ],
      "execution_count": 2,
      "outputs": [
        {
          "output_type": "stream",
          "text": [
            "  0%|          | 16384/26421880 [00:00<02:45, 159268.26it/s]"
          ],
          "name": "stderr"
        },
        {
          "output_type": "stream",
          "text": [
            "Downloading http://fashion-mnist.s3-website.eu-central-1.amazonaws.com/train-images-idx3-ubyte.gz to ./FashionMNIST/FashionMNIST/raw/train-images-idx3-ubyte.gz\n"
          ],
          "name": "stdout"
        },
        {
          "output_type": "stream",
          "text": [
            "26427392it [00:00, 62494300.52it/s]                            \n"
          ],
          "name": "stderr"
        },
        {
          "output_type": "stream",
          "text": [
            "Extracting ./FashionMNIST/FashionMNIST/raw/train-images-idx3-ubyte.gz\n"
          ],
          "name": "stdout"
        },
        {
          "output_type": "stream",
          "text": [
            "32768it [00:00, 507836.92it/s]\n",
            "  5%|▍         | 212992/4422102 [00:00<00:02, 1901767.11it/s]"
          ],
          "name": "stderr"
        },
        {
          "output_type": "stream",
          "text": [
            "Downloading http://fashion-mnist.s3-website.eu-central-1.amazonaws.com/train-labels-idx1-ubyte.gz to ./FashionMNIST/FashionMNIST/raw/train-labels-idx1-ubyte.gz\n",
            "Extracting ./FashionMNIST/FashionMNIST/raw/train-labels-idx1-ubyte.gz\n",
            "Downloading http://fashion-mnist.s3-website.eu-central-1.amazonaws.com/t10k-images-idx3-ubyte.gz to ./FashionMNIST/FashionMNIST/raw/t10k-images-idx3-ubyte.gz\n"
          ],
          "name": "stdout"
        },
        {
          "output_type": "stream",
          "text": [
            "4423680it [00:00, 23301817.65it/s]                           \n",
            "8192it [00:00, 74018.78it/s]            \n"
          ],
          "name": "stderr"
        },
        {
          "output_type": "stream",
          "text": [
            "Extracting ./FashionMNIST/FashionMNIST/raw/t10k-images-idx3-ubyte.gz\n",
            "Downloading http://fashion-mnist.s3-website.eu-central-1.amazonaws.com/t10k-labels-idx1-ubyte.gz to ./FashionMNIST/FashionMNIST/raw/t10k-labels-idx1-ubyte.gz\n",
            "Extracting ./FashionMNIST/FashionMNIST/raw/t10k-labels-idx1-ubyte.gz\n",
            "Processing...\n",
            "Done!\n"
          ],
          "name": "stdout"
        }
      ]
    },
    {
      "cell_type": "code",
      "metadata": {
        "id": "EVEvrHUQoFcG",
        "colab_type": "code",
        "colab": {
          "base_uri": "https://localhost:8080/",
          "height": 86
        },
        "outputId": "014ab1c9-8e1e-4374-bd1d-16de2c9ae197"
      },
      "source": [
        "# Size of train and test datasets\n",
        "print('No. of samples in train set: '+str(len(trainLoader.dataset)))\n",
        "print('No. of samples in test set: '+str(len(testLoader.dataset)))\n",
        "train_size = len(trainLoader.dataset)\n",
        "test_size = len(testLoader.dataset)\n",
        "print(trainLoader.dataset.data.shape)\n",
        "print(np.shape(trainLoader.dataset.targets))"
      ],
      "execution_count": 3,
      "outputs": [
        {
          "output_type": "stream",
          "text": [
            "No. of samples in train set: 60000\n",
            "No. of samples in test set: 10000\n",
            "torch.Size([60000, 28, 28])\n",
            "torch.Size([60000])\n"
          ],
          "name": "stdout"
        }
      ]
    },
    {
      "cell_type": "code",
      "metadata": {
        "id": "NVKxCIfNW7K4",
        "colab_type": "code",
        "colab": {}
      },
      "source": [
        "class LeNet(nn.Module):\n",
        "    def __init__(self):\n",
        "        super(LeNet, self).__init__()\n",
        "        self.conv1 = nn.Conv2d(1,6,kernel_size = 5)\n",
        "        self.pool1 = nn.MaxPool2d(kernel_size = 2, stride = 2)\n",
        "        self.conv2 = nn.Conv2d(6,16,kernel_size = 5)\n",
        "        self.pool2 = nn.MaxPool2d(kernel_size = 2, stride = 2)\n",
        "        self.fc1 = nn.Linear(256, 120)\n",
        "        self.fc2 = nn.Linear(120, 84)\n",
        "        self.fc3 = nn.Linear(84, 10)\n",
        "    \n",
        "    def forward(self, x):\n",
        "        x = F.relu(self.conv1(x))\n",
        "        x = self.pool1(x)\n",
        "        x = F.relu(self.conv2(x))\n",
        "        x = self.pool2(x)\n",
        "        x = x.view(-1,256)\n",
        "        x = F.relu(self.fc1(x))\n",
        "        x = F.relu(self.fc2(x))\n",
        "        x = self.fc3(x)\n",
        "        return F.log_softmax(x, dim = 1)"
      ],
      "execution_count": 0,
      "outputs": []
    },
    {
      "cell_type": "code",
      "metadata": {
        "id": "Q8x8t-VWXBRj",
        "colab_type": "code",
        "colab": {
          "base_uri": "https://localhost:8080/",
          "height": 173
        },
        "outputId": "d8504643-4d8a-464c-d598-3b30a2532692"
      },
      "source": [
        "net = LeNet()\n",
        "print(net)"
      ],
      "execution_count": 5,
      "outputs": [
        {
          "output_type": "stream",
          "text": [
            "LeNet(\n",
            "  (conv1): Conv2d(1, 6, kernel_size=(5, 5), stride=(1, 1))\n",
            "  (pool1): MaxPool2d(kernel_size=2, stride=2, padding=0, dilation=1, ceil_mode=False)\n",
            "  (conv2): Conv2d(6, 16, kernel_size=(5, 5), stride=(1, 1))\n",
            "  (pool2): MaxPool2d(kernel_size=2, stride=2, padding=0, dilation=1, ceil_mode=False)\n",
            "  (fc1): Linear(in_features=256, out_features=120, bias=True)\n",
            "  (fc2): Linear(in_features=120, out_features=84, bias=True)\n",
            "  (fc3): Linear(in_features=84, out_features=10, bias=True)\n",
            ")\n"
          ],
          "name": "stdout"
        }
      ]
    },
    {
      "cell_type": "code",
      "metadata": {
        "id": "YuZDIQm1XST4",
        "colab_type": "code",
        "colab": {
          "base_uri": "https://localhost:8080/",
          "height": 34
        },
        "outputId": "d36fbe8e-1cc8-4f9e-d397-c1b9a77707c9"
      },
      "source": [
        "# Check availability of GPU\n",
        "use_gpu = torch.cuda.is_available()\n",
        "if use_gpu:\n",
        "    print('GPU is available!')   \n",
        "    net = net.cuda()"
      ],
      "execution_count": 6,
      "outputs": [
        {
          "output_type": "stream",
          "text": [
            "GPU is available!\n"
          ],
          "name": "stdout"
        }
      ]
    },
    {
      "cell_type": "code",
      "metadata": {
        "id": "jNu86XTDXb-W",
        "colab_type": "code",
        "colab": {}
      },
      "source": [
        "criterion = nn.NLLLoss()\n",
        "optimizer = optim.Adam(net.parameters(), lr=0.0001)"
      ],
      "execution_count": 0,
      "outputs": []
    },
    {
      "cell_type": "code",
      "metadata": {
        "id": "CBVNfEKYYQ8M",
        "colab_type": "code",
        "colab": {}
      },
      "source": [
        "CUDA_LAUNCH_BLOCKING=1"
      ],
      "execution_count": 0,
      "outputs": []
    },
    {
      "cell_type": "code",
      "metadata": {
        "id": "dqrMsnqcXd46",
        "colab_type": "code",
        "colab": {
          "base_uri": "https://localhost:8080/",
          "height": 724
        },
        "outputId": "b8652c89-6c7b-44f7-d417-f9e3f473b1bc"
      },
      "source": [
        "iterations = 10\n",
        "trainLoss = []\n",
        "testAcc = []\n",
        "#i = 0\n",
        "for epoch in range(iterations):\n",
        "    epochStart = time.time()\n",
        "    runningLoss = 0\n",
        "    net.train(True)\n",
        "    for data in trainLoader:\n",
        "        inputs, labels = data\n",
        "        #i+=1\n",
        "        # Wrap inputs and labels into Variables\n",
        "        if use_gpu:\n",
        "            inputs, labels = Variable(inputs.cuda()), Variable(labels.cuda())\n",
        "        else:\n",
        "            inputs, labels = Variable(inputs), Variable(labels)\n",
        "        \n",
        "        # Initialize gradients to zero\n",
        "        optimizer.zero_grad()\n",
        "        \n",
        "        # Feedforward input through the network\n",
        "        output = net(inputs)\n",
        "        \n",
        "        # Compute loss\n",
        "        loss = criterion(output, labels)\n",
        "        \n",
        "        # Backpropagation\n",
        "        loss.backward()\n",
        "        \n",
        "        # Update the network parameters\n",
        "        optimizer.step()\n",
        "        \n",
        "        # Accumulate loss per batch\n",
        "        runningLoss += loss.data.item()\n",
        "    avgTrainLoss = runningLoss/train_size\n",
        "    trainLoss.append(avgTrainLoss)\n",
        "    \n",
        "    # Evaluating performance on test set for each epoch\n",
        "    with torch.no_grad(): # for evaluation\n",
        "        running_correct = 0\n",
        "        #j = 0\n",
        "        for data in testLoader:\n",
        "            inputs,labels = data\n",
        "            \n",
        "            # Wrap them in Variable\n",
        "            if use_gpu:\n",
        "                inputs = Variable(inputs.cuda())                \n",
        "                outputs = net(inputs)\n",
        "                #j+=1\n",
        "                #print(outputs,j)              \n",
        "                _, predicted = torch.max(outputs.data, 1)\n",
        "                \n",
        "                predicted = predicted.cpu()\n",
        "           \n",
        "            else:\n",
        "                inputs = Variable(inputs)\n",
        "                outputs = net(inputs)\n",
        "                \n",
        "                _, predicted = torch.max(outputs.data, 1)\n",
        "                \n",
        "            running_correct += (predicted == labels).sum()\n",
        "     \n",
        "        avgTestAcc = float(running_correct)/test_size\n",
        "  \n",
        "        testAcc.append(avgTestAcc)\n",
        "        \n",
        "    # Plotting training loss vs Epochs\n",
        "    fig1 = plt.figure(1)        \n",
        "    plt.plot(range(epoch+1),trainLoss,'r-',label='LeNet-5')        \n",
        "           \n",
        "    if epoch==0:\n",
        "        plt.legend(loc='upper left')\n",
        "        plt.xlabel('Epochs')\n",
        "        plt.ylabel('Training loss')   \n",
        "    # Plotting testing accuracy vs Epochs\n",
        "    fig2 = plt.figure(2)        \n",
        "    plt.plot(range(epoch+1),testAcc,'r-',label='LeNet-5')        \n",
        "        \n",
        "    if epoch==0:\n",
        "        plt.legend(loc='upper left')\n",
        "        plt.xlabel('Epochs')\n",
        "        plt.ylabel('Testing accuracy')    \n",
        "    epochEnd = time.time()-epochStart\n",
        "    print('Iteration: {:.0f} /{:.0f}  ; LeNet:  Training Loss: {:.6f} ; Testing Acc: {:.3f} ; Time consumed: {:.0f}m {:.0f}s '\\\n",
        "          .format(epoch + 1,iterations,avgTrainLoss,avgTestAcc*100,epochEnd//60,epochEnd%60))"
      ],
      "execution_count": 19,
      "outputs": [
        {
          "output_type": "stream",
          "text": [
            "Iteration: 1 /10  ; LeNet:  Training Loss: 0.000728 ; Testing Acc: 86.020 ; Time consumed: 0m 5s \n",
            "Iteration: 2 /10  ; LeNet:  Training Loss: 0.000726 ; Testing Acc: 85.690 ; Time consumed: 0m 6s \n",
            "Iteration: 3 /10  ; LeNet:  Training Loss: 0.000723 ; Testing Acc: 86.210 ; Time consumed: 0m 6s \n",
            "Iteration: 4 /10  ; LeNet:  Training Loss: 0.000718 ; Testing Acc: 86.320 ; Time consumed: 0m 5s \n",
            "Iteration: 5 /10  ; LeNet:  Training Loss: 0.000716 ; Testing Acc: 86.040 ; Time consumed: 0m 5s \n",
            "Iteration: 6 /10  ; LeNet:  Training Loss: 0.000711 ; Testing Acc: 86.460 ; Time consumed: 0m 5s \n",
            "Iteration: 7 /10  ; LeNet:  Training Loss: 0.000709 ; Testing Acc: 86.080 ; Time consumed: 0m 5s \n",
            "Iteration: 8 /10  ; LeNet:  Training Loss: 0.000709 ; Testing Acc: 86.430 ; Time consumed: 0m 5s \n",
            "Iteration: 9 /10  ; LeNet:  Training Loss: 0.000707 ; Testing Acc: 86.140 ; Time consumed: 0m 6s \n",
            "Iteration: 10 /10  ; LeNet:  Training Loss: 0.000702 ; Testing Acc: 86.380 ; Time consumed: 0m 5s \n"
          ],
          "name": "stdout"
        },
        {
          "output_type": "display_data",
          "data": {
            "image/png": "[encoded data removed]",
            "text/plain": [
              "<Figure size 432x288 with 1 Axes>"
            ]
          },
          "metadata": {
            "tags": []
          }
        },
        {
          "output_type": "display_data",
          "data": {
            "image/png": "[encoded data removed]",
            "text/plain": [
              "<Figure size 432x288 with 1 Axes>"
            ]
          },
          "metadata": {
            "tags": []
          }
        }
      ]
    },
    {
      "cell_type": "code",
      "metadata": {
        "id": "zZaSRnFjXjAE",
        "colab_type": "code",
        "colab": {}
      },
      "source": [
        "def imshow(img):\n",
        "    npimg = img.numpy()\n",
        "    plt.imshow(np.transpose(npimg, (1,2,0)), interpolation='nearest')\n",
        "    plt.axis('off')\n",
        "    plt.show()"
      ],
      "execution_count": 0,
      "outputs": []
    },
    {
      "cell_type": "code",
      "metadata": {
        "id": "VXruooyIAbjW",
        "colab_type": "code",
        "colab": {}
      },
      "source": [
        "classes = ['T-shirt/top', 'Trouser', 'Pullover', 'Dress', 'Coat', 'Sandal', 'Shirt', 'Sneaker', 'Bag', 'Ankle-boot']"
      ],
      "execution_count": 0,
      "outputs": []
    },
    {
      "cell_type": "code",
      "metadata": {
        "id": "DQVhGhQVAoWG",
        "colab_type": "code",
        "colab": {
          "base_uri": "https://localhost:8080/",
          "height": 156
        },
        "outputId": "99b725b6-b29d-47d5-93e4-1a1a15045fb8"
      },
      "source": [
        "dataiter = iter(testLoader)\n",
        "inputs, labels = dataiter.next()\n",
        "\n",
        "# print images\n",
        "imshow(torchvision.utils.make_grid(inputs[:5], nrow=5))\n",
        "print('GroundTruth: ', ' '.join('%8s' % classes[labels[j]] for j in range(5)))\n",
        "\n",
        "# Get the predicted outputs\n",
        "if use_gpu:\n",
        "    inputs = Variable(inputs.cuda())                \n",
        "    outputs = net(inputs)\n",
        "    probabilities, predicted = torch.max(outputs.data, 1)                \n",
        "    predicted = predicted.cpu()           \n",
        "else:\n",
        "    inputs = Variable(inputs)\n",
        "    outputs = net(inputs)                \n",
        "    probabilities, predicted = torch.max(outputs.data, 1)\n",
        "probabilities_np = probabilities.cpu().data.numpy()\n",
        "print('Predicted: ', ' '.join('%3s (%.2f)' % (classes[predicted[j]], torch.exp(probabilities[j])) for j in range(5)))"
      ],
      "execution_count": 16,
      "outputs": [
        {
          "output_type": "display_data",
          "data": {
            "image/png": "[encoded data removed]",
            "text/plain": [
              "<Figure size 432x288 with 1 Axes>"
            ]
          },
          "metadata": {
            "tags": []
          }
        },
        {
          "output_type": "stream",
          "text": [
            "GroundTruth:  Ankle-boot Pullover  Trouser  Trouser    Shirt\n",
            "Predicted:  Ankle-boot (0.88) Pullover (0.98) Trouser (1.00) Trouser (1.00) Shirt (0.81)\n"
          ],
          "name": "stdout"
        }
      ]
    },
    {
      "cell_type": "code",
      "metadata": {
        "id": "I3J7TPbVAtmD",
        "colab_type": "code",
        "colab": {}
      },
      "source": [
        ""
      ],
      "execution_count": 0,
      "outputs": []
    }
  ]
}