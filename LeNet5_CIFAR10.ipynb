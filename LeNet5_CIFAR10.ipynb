{
  "nbformat": 4,
  "nbformat_minor": 0,
  "metadata": {
    "colab": {
      "name": "LeNet5-CIFAR10.ipynb",
      "version": "0.3.2",
      "provenance": [],
      "collapsed_sections": [],
      "include_colab_link": true
    },
    "kernelspec": {
      "name": "python3",
      "display_name": "Python 3"
    },
    "accelerator": "GPU"
  },
  "cells": [
    {
      "cell_type": "markdown",
      "metadata": {
        "id": "view-in-github",
        "colab_type": "text"
      },
      "source": [
        "<a href=\"https://colab.research.google.com/github/Shubhammawa/Pytorch-Tutorial/blob/master/LeNet5_CIFAR10.ipynb\" target=\"_parent\"><img src=\"https://colab.research.google.com/assets/colab-badge.svg\" alt=\"Open In Colab\"/></a>"
      ]
    },
    {
      "cell_type": "code",
      "metadata": {
        "id": "xeOJxxBe2amm",
        "colab_type": "code",
        "colab": {}
      },
      "source": [
        "import numpy as np\n",
        "import torch\n",
        "import matplotlib.pyplot as plt\n",
        "import torch.nn as nn\n",
        "from torchvision import transforms,datasets\n",
        "import torch.optim as optim\n",
        "from torch.autograd import Variable\n",
        "import torchvision\n",
        "import torch.nn.functional as F\n",
        "import time"
      ],
      "execution_count": 0,
      "outputs": []
    },
    {
      "cell_type": "code",
      "metadata": {
        "id": "VTbOTx7Z5ExX",
        "colab_type": "code",
        "outputId": "8d2b5f3f-c5ed-4e7b-b580-ac082a2dc970",
        "colab": {
          "base_uri": "https://localhost:8080/",
          "height": 69
        }
      },
      "source": [
        "apply_transform = transforms.Compose([transforms.Resize(32),transforms.ToTensor()])\n",
        "BatchSize = 256 # change according to system specs\n",
        "\n",
        "trainset = datasets.CIFAR10(root='./CIFAR10', train=True, download=True, transform=apply_transform)\n",
        "trainLoader = torch.utils.data.DataLoader(trainset, batch_size=BatchSize, shuffle=True, num_workers=4) # Creating dataloader\n",
        "\n",
        "testset = datasets.CIFAR10(root='./CIFAR10', train=False, download=True, transform=apply_transform)\n",
        "testLoader = torch.utils.data.DataLoader(testset, batch_size=BatchSize, shuffle=False, num_workers=4) # Creating dataloader"
      ],
      "execution_count": 3,
      "outputs": [
        {
          "output_type": "stream",
          "text": [
            "  0%|          | 0/170498071 [00:00<?, ?it/s]"
          ],
          "name": "stderr"
        },
        {
          "output_type": "stream",
          "text": [
            "Downloading https://www.cs.toronto.edu/~kriz/cifar-10-python.tar.gz to ./CIFAR10/cifar-10-python.tar.gz\n"
          ],
          "name": "stdout"
        },
        {
          "output_type": "stream",
          "text": [
            "170500096it [00:05, 29030914.72it/s]                               \n"
          ],
          "name": "stderr"
        },
        {
          "output_type": "stream",
          "text": [
            "Files already downloaded and verified\n"
          ],
          "name": "stdout"
        }
      ]
    },
    {
      "cell_type": "code",
      "metadata": {
        "id": "HrZJxOPz6xfa",
        "colab_type": "code",
        "outputId": "5ab208a7-fdc4-4db0-829a-bd73fa927e2d",
        "colab": {
          "base_uri": "https://localhost:8080/",
          "height": 52
        }
      },
      "source": [
        "# Size of train and test datasets\n",
        "print('No. of samples in train set: '+str(len(trainLoader.dataset)))\n",
        "print('No. of samples in test set: '+str(len(testLoader.dataset)))\n",
        "train_size = len(trainLoader.dataset)\n",
        "test_size = len(testLoader.dataset)"
      ],
      "execution_count": 4,
      "outputs": [
        {
          "output_type": "stream",
          "text": [
            "No. of samples in train set: 50000\n",
            "No. of samples in test set: 10000\n"
          ],
          "name": "stdout"
        }
      ]
    },
    {
      "cell_type": "code",
      "metadata": {
        "id": "1LlvC4a264s1",
        "colab_type": "code",
        "colab": {}
      },
      "source": [
        "class LeNet(nn.Module):\n",
        "    def __init__(self):\n",
        "        super(LeNet, self).__init__()\n",
        "        self.conv1 = nn.Conv2d(3,6,kernel_size = 5)\n",
        "        self.pool1 = nn.MaxPool2d(kernel_size = 2, stride = 2)\n",
        "        self.conv2 = nn.Conv2d(6,16,kernel_size = 5)\n",
        "        self.pool2 = nn.MaxPool2d(kernel_size = 2, stride = 2)\n",
        "        self.fc1 = nn.Linear(400, 120)\n",
        "        self.fc2 = nn.Linear(120, 84)\n",
        "        self.fc3 = nn.Linear(84, 10)\n",
        "    \n",
        "    def forward(self, x):\n",
        "        x = F.relu(self.conv1(x))\n",
        "        x = self.pool1(x)\n",
        "        x = F.relu(self.conv2(x))\n",
        "        x = self.pool2(x)\n",
        "        x = x.view(-1,400)\n",
        "        x = F.relu(self.fc1(x))\n",
        "        x = F.relu(self.fc2(x))\n",
        "        x = self.fc3(x)\n",
        "        return F.log_softmax(x, dim = 1)"
      ],
      "execution_count": 0,
      "outputs": []
    },
    {
      "cell_type": "code",
      "metadata": {
        "id": "jAR2NOAYVEOZ",
        "colab_type": "code",
        "colab": {
          "base_uri": "https://localhost:8080/",
          "height": 173
        },
        "outputId": "ff744ebc-d19f-4cb1-d9f8-53d101c2c62b"
      },
      "source": [
        "net = LeNet()\n",
        "print(net)"
      ],
      "execution_count": 6,
      "outputs": [
        {
          "output_type": "stream",
          "text": [
            "LeNet(\n",
            "  (conv1): Conv2d(3, 6, kernel_size=(5, 5), stride=(1, 1))\n",
            "  (pool1): MaxPool2d(kernel_size=2, stride=2, padding=0, dilation=1, ceil_mode=False)\n",
            "  (conv2): Conv2d(6, 16, kernel_size=(5, 5), stride=(1, 1))\n",
            "  (pool2): MaxPool2d(kernel_size=2, stride=2, padding=0, dilation=1, ceil_mode=False)\n",
            "  (fc1): Linear(in_features=400, out_features=120, bias=True)\n",
            "  (fc2): Linear(in_features=120, out_features=84, bias=True)\n",
            "  (fc3): Linear(in_features=84, out_features=10, bias=True)\n",
            ")\n"
          ],
          "name": "stdout"
        }
      ]
    },
    {
      "cell_type": "code",
      "metadata": {
        "id": "lYSe2vZLlDO2",
        "colab_type": "code",
        "colab": {
          "base_uri": "https://localhost:8080/",
          "height": 34
        },
        "outputId": "ae9256d6-ba74-420c-b9b0-238b1b8ebc3e"
      },
      "source": [
        "# Check availability of GPU\n",
        "use_gpu = torch.cuda.is_available()\n",
        "if use_gpu:\n",
        "    print('GPU is available!')   \n",
        "    net = net.cuda()"
      ],
      "execution_count": 7,
      "outputs": [
        {
          "output_type": "stream",
          "text": [
            "GPU is available!\n"
          ],
          "name": "stdout"
        }
      ]
    },
    {
      "cell_type": "code",
      "metadata": {
        "id": "uDBrVACSlGAg",
        "colab_type": "code",
        "colab": {}
      },
      "source": [
        "criterion = nn.NLLLoss()\n",
        "optimizer = optim.Adam(net.parameters(), lr=0.0001)"
      ],
      "execution_count": 0,
      "outputs": []
    },
    {
      "cell_type": "code",
      "metadata": {
        "id": "lNgUg2pnlQ2Z",
        "colab_type": "code",
        "colab": {
          "base_uri": "https://localhost:8080/",
          "height": 1417
        },
        "outputId": "4e182fac-be0f-4c9d-83cf-8399143b079e"
      },
      "source": [
        "iterations = 50\n",
        "trainLoss = []\n",
        "testAcc = []\n",
        "#i = 0\n",
        "for epoch in range(iterations):\n",
        "    epochStart = time.time()\n",
        "    runningLoss = 0\n",
        "    net.train(True)\n",
        "    for data in trainLoader:\n",
        "        inputs, labels = data\n",
        "        #i+=1\n",
        "        # Wrap inputs and labels into Variables\n",
        "        if use_gpu:\n",
        "            inputs, labels = Variable(inputs.cuda()), Variable(labels.cuda())\n",
        "        else:\n",
        "            inputs, labels = Variable(inputs), Variable(labels)\n",
        "        \n",
        "        # Initialize gradients to zero\n",
        "        optimizer.zero_grad()\n",
        "        \n",
        "        # Feedforward input through the network\n",
        "        output = net(inputs)\n",
        "        \n",
        "        # Compute loss\n",
        "        loss = criterion(output, labels)\n",
        "        \n",
        "        # Backpropagation\n",
        "        loss.backward()\n",
        "        \n",
        "        # Update the network parameters\n",
        "        optimizer.step()\n",
        "        \n",
        "        # Accumulate loss per batch\n",
        "        runningLoss += loss.data.item()\n",
        "    avgTrainLoss = runningLoss/train_size\n",
        "    trainLoss.append(avgTrainLoss)\n",
        "    \n",
        "    # Evaluating performance on test set for each epoch\n",
        "    with torch.no_grad(): # for evaluation\n",
        "        running_correct = 0\n",
        "        #j = 0\n",
        "        for data in testLoader:\n",
        "            inputs,labels = data\n",
        "            \n",
        "            # Wrap them in Variable\n",
        "            if use_gpu:\n",
        "                inputs = Variable(inputs.cuda())                \n",
        "                outputs = net(inputs)\n",
        "                #j+=1\n",
        "                #print(outputs,j)              \n",
        "                _, predicted = torch.max(outputs.data, 1)\n",
        "                \n",
        "                predicted = predicted.cpu()\n",
        "           \n",
        "            else:\n",
        "                inputs = Variable(inputs)\n",
        "                outputs = net(inputs)\n",
        "                \n",
        "                _, predicted = torch.max(outputs.data, 1)\n",
        "                \n",
        "            running_correct += (predicted == labels).sum()\n",
        "     \n",
        "        avgTestAcc = float(running_correct)/test_size\n",
        "  \n",
        "        testAcc.append(avgTestAcc)\n",
        "        \n",
        "    # Plotting training loss vs Epochs\n",
        "    fig1 = plt.figure(1)        \n",
        "    plt.plot(range(epoch+1),trainLoss,'r-',label='LeNet-5')        \n",
        "           \n",
        "    if epoch==0:\n",
        "        plt.legend(loc='upper left')\n",
        "        plt.xlabel('Epochs')\n",
        "        plt.ylabel('Training loss')   \n",
        "    # Plotting testing accuracy vs Epochs\n",
        "    fig2 = plt.figure(2)        \n",
        "    plt.plot(range(epoch+1),testAcc,'r-',label='LeNet-5')        \n",
        "        \n",
        "    if epoch==0:\n",
        "        plt.legend(loc='upper left')\n",
        "        plt.xlabel('Epochs')\n",
        "        plt.ylabel('Testing accuracy')    \n",
        "    epochEnd = time.time()-epochStart\n",
        "    print('Iteration: {:.0f} /{:.0f}  ; LeNet:  Training Loss: {:.6f} ; Testing Acc: {:.3f} ; Time consumed: {:.0f}m {:.0f}s '\\\n",
        "          .format(epoch + 1,iterations,avgTrainLoss,avgTestAcc*100,epochEnd//60,epochEnd%60))"
      ],
      "execution_count": 26,
      "outputs": [
        {
          "output_type": "stream",
          "text": [
            "Iteration: 1 /50  ; LeNet:  Training Loss: 0.005444 ; Testing Acc: 49.500 ; Time consumed: 0m 6s \n",
            "Iteration: 2 /50  ; LeNet:  Training Loss: 0.005422 ; Testing Acc: 49.200 ; Time consumed: 0m 7s \n",
            "Iteration: 3 /50  ; LeNet:  Training Loss: 0.005396 ; Testing Acc: 49.710 ; Time consumed: 0m 6s \n",
            "Iteration: 4 /50  ; LeNet:  Training Loss: 0.005378 ; Testing Acc: 49.830 ; Time consumed: 0m 6s \n",
            "Iteration: 5 /50  ; LeNet:  Training Loss: 0.005357 ; Testing Acc: 50.010 ; Time consumed: 0m 6s \n",
            "Iteration: 6 /50  ; LeNet:  Training Loss: 0.005334 ; Testing Acc: 50.260 ; Time consumed: 0m 6s \n",
            "Iteration: 7 /50  ; LeNet:  Training Loss: 0.005330 ; Testing Acc: 50.270 ; Time consumed: 0m 6s \n",
            "Iteration: 8 /50  ; LeNet:  Training Loss: 0.005309 ; Testing Acc: 50.610 ; Time consumed: 0m 6s \n",
            "Iteration: 9 /50  ; LeNet:  Training Loss: 0.005276 ; Testing Acc: 50.640 ; Time consumed: 0m 6s \n",
            "Iteration: 10 /50  ; LeNet:  Training Loss: 0.005272 ; Testing Acc: 51.000 ; Time consumed: 0m 6s \n",
            "Iteration: 11 /50  ; LeNet:  Training Loss: 0.005254 ; Testing Acc: 51.090 ; Time consumed: 0m 6s \n",
            "Iteration: 12 /50  ; LeNet:  Training Loss: 0.005238 ; Testing Acc: 51.220 ; Time consumed: 0m 6s \n",
            "Iteration: 13 /50  ; LeNet:  Training Loss: 0.005215 ; Testing Acc: 51.290 ; Time consumed: 0m 6s \n",
            "Iteration: 14 /50  ; LeNet:  Training Loss: 0.005194 ; Testing Acc: 51.190 ; Time consumed: 0m 7s \n",
            "Iteration: 15 /50  ; LeNet:  Training Loss: 0.005179 ; Testing Acc: 51.820 ; Time consumed: 0m 6s \n",
            "Iteration: 16 /50  ; LeNet:  Training Loss: 0.005159 ; Testing Acc: 51.320 ; Time consumed: 0m 6s \n",
            "Iteration: 17 /50  ; LeNet:  Training Loss: 0.005147 ; Testing Acc: 52.050 ; Time consumed: 0m 6s \n",
            "Iteration: 18 /50  ; LeNet:  Training Loss: 0.005138 ; Testing Acc: 52.100 ; Time consumed: 0m 6s \n",
            "Iteration: 19 /50  ; LeNet:  Training Loss: 0.005115 ; Testing Acc: 52.160 ; Time consumed: 0m 6s \n",
            "Iteration: 20 /50  ; LeNet:  Training Loss: 0.005105 ; Testing Acc: 52.020 ; Time consumed: 0m 6s \n",
            "Iteration: 21 /50  ; LeNet:  Training Loss: 0.005083 ; Testing Acc: 52.240 ; Time consumed: 0m 7s \n",
            "Iteration: 22 /50  ; LeNet:  Training Loss: 0.005076 ; Testing Acc: 52.040 ; Time consumed: 0m 6s \n",
            "Iteration: 23 /50  ; LeNet:  Training Loss: 0.005055 ; Testing Acc: 52.400 ; Time consumed: 0m 6s \n",
            "Iteration: 24 /50  ; LeNet:  Training Loss: 0.005049 ; Testing Acc: 52.960 ; Time consumed: 0m 6s \n",
            "Iteration: 25 /50  ; LeNet:  Training Loss: 0.005025 ; Testing Acc: 52.610 ; Time consumed: 0m 6s \n",
            "Iteration: 26 /50  ; LeNet:  Training Loss: 0.005028 ; Testing Acc: 52.920 ; Time consumed: 0m 7s \n",
            "Iteration: 27 /50  ; LeNet:  Training Loss: 0.005001 ; Testing Acc: 52.730 ; Time consumed: 0m 7s \n",
            "Iteration: 28 /50  ; LeNet:  Training Loss: 0.004980 ; Testing Acc: 53.540 ; Time consumed: 0m 6s \n",
            "Iteration: 29 /50  ; LeNet:  Training Loss: 0.004965 ; Testing Acc: 53.170 ; Time consumed: 0m 6s \n",
            "Iteration: 30 /50  ; LeNet:  Training Loss: 0.004965 ; Testing Acc: 53.660 ; Time consumed: 0m 6s \n",
            "Iteration: 31 /50  ; LeNet:  Training Loss: 0.004940 ; Testing Acc: 53.390 ; Time consumed: 0m 6s \n",
            "Iteration: 32 /50  ; LeNet:  Training Loss: 0.004927 ; Testing Acc: 53.700 ; Time consumed: 0m 6s \n",
            "Iteration: 33 /50  ; LeNet:  Training Loss: 0.004925 ; Testing Acc: 53.740 ; Time consumed: 0m 6s \n",
            "Iteration: 34 /50  ; LeNet:  Training Loss: 0.004907 ; Testing Acc: 54.060 ; Time consumed: 0m 6s \n",
            "Iteration: 35 /50  ; LeNet:  Training Loss: 0.004893 ; Testing Acc: 54.060 ; Time consumed: 0m 6s \n",
            "Iteration: 36 /50  ; LeNet:  Training Loss: 0.004891 ; Testing Acc: 53.880 ; Time consumed: 0m 6s \n",
            "Iteration: 37 /50  ; LeNet:  Training Loss: 0.004872 ; Testing Acc: 54.160 ; Time consumed: 0m 6s \n",
            "Iteration: 38 /50  ; LeNet:  Training Loss: 0.004869 ; Testing Acc: 54.370 ; Time consumed: 0m 6s \n",
            "Iteration: 39 /50  ; LeNet:  Training Loss: 0.004847 ; Testing Acc: 54.360 ; Time consumed: 0m 7s \n",
            "Iteration: 40 /50  ; LeNet:  Training Loss: 0.004834 ; Testing Acc: 54.260 ; Time consumed: 0m 7s \n",
            "Iteration: 41 /50  ; LeNet:  Training Loss: 0.004825 ; Testing Acc: 54.510 ; Time consumed: 0m 6s \n",
            "Iteration: 42 /50  ; LeNet:  Training Loss: 0.004812 ; Testing Acc: 54.460 ; Time consumed: 0m 6s \n",
            "Iteration: 43 /50  ; LeNet:  Training Loss: 0.004814 ; Testing Acc: 55.020 ; Time consumed: 0m 6s \n",
            "Iteration: 44 /50  ; LeNet:  Training Loss: 0.004786 ; Testing Acc: 54.860 ; Time consumed: 0m 6s \n",
            "Iteration: 45 /50  ; LeNet:  Training Loss: 0.004778 ; Testing Acc: 55.050 ; Time consumed: 0m 6s \n",
            "Iteration: 46 /50  ; LeNet:  Training Loss: 0.004767 ; Testing Acc: 55.080 ; Time consumed: 0m 6s \n",
            "Iteration: 47 /50  ; LeNet:  Training Loss: 0.004763 ; Testing Acc: 55.020 ; Time consumed: 0m 6s \n",
            "Iteration: 48 /50  ; LeNet:  Training Loss: 0.004762 ; Testing Acc: 54.450 ; Time consumed: 0m 6s \n",
            "Iteration: 49 /50  ; LeNet:  Training Loss: 0.004749 ; Testing Acc: 55.190 ; Time consumed: 0m 6s \n",
            "Iteration: 50 /50  ; LeNet:  Training Loss: 0.004741 ; Testing Acc: 54.780 ; Time consumed: 0m 6s \n"
          ],
          "name": "stdout"
        },
        {
          "output_type": "display_data",
          "data": {
            "image/png": "[encoded data removed]",
            "text/plain": [
              "<Figure size 432x288 with 1 Axes>"
            ]
          },
          "metadata": {
            "tags": []
          }
        },
        {
          "output_type": "display_data",
          "data": {
            "image/png": "[encoded data removed]",
            "text/plain": [
              "<Figure size 432x288 with 1 Axes>"
            ]
          },
          "metadata": {
            "tags": []
          }
        }
      ]
    },
    {
      "cell_type": "code",
      "metadata": {
        "id": "VcW5KZY8mGaq",
        "colab_type": "code",
        "colab": {
          "base_uri": "https://localhost:8080/",
          "height": 34
        },
        "outputId": "adff5d61-635b-465d-b213-dfecee13ec0f"
      },
      "source": [
        "print(predicted, labels)"
      ],
      "execution_count": 27,
      "outputs": [
        {
          "output_type": "stream",
          "text": [
            "tensor([7, 3, 8, 8, 8, 4, 7, 9, 3, 5, 3, 5, 4, 5, 4, 7]) tensor([7, 5, 8, 0, 8, 2, 7, 0, 3, 5, 3, 8, 3, 5, 1, 7])\n"
          ],
          "name": "stdout"
        }
      ]
    }
  ]
}