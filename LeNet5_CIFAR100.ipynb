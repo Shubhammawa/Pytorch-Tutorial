{
  "nbformat": 4,
  "nbformat_minor": 0,
  "metadata": {
    "colab": {
      "name": "LeNet5-CIFAR100.ipynb",
      "version": "0.3.2",
      "provenance": [],
      "include_colab_link": true
    },
    "kernelspec": {
      "name": "python3",
      "display_name": "Python 3"
    },
    "accelerator": "GPU"
  },
  "cells": [
    {
      "cell_type": "markdown",
      "metadata": {
        "id": "view-in-github",
        "colab_type": "text"
      },
      "source": [
        "<a href=\"https://colab.research.google.com/github/Shubhammawa/Pytorch-Tutorial/blob/master/LeNet5_CIFAR100.ipynb\" target=\"_parent\"><img src=\"https://colab.research.google.com/assets/colab-badge.svg\" alt=\"Open In Colab\"/></a>"
      ]
    },
    {
      "cell_type": "code",
      "metadata": {
        "id": "PPaTLWSSlTH-",
        "colab_type": "code",
        "colab": {}
      },
      "source": [
        "import numpy as np\n",
        "import torch\n",
        "import matplotlib.pyplot as plt\n",
        "import torch.nn as nn\n",
        "from torchvision import transforms,datasets\n",
        "import torch.optim as optim\n",
        "from torch.autograd import Variable\n",
        "import torchvision\n",
        "import torch.nn.functional as F\n",
        "import time\n",
        "import scipy"
      ],
      "execution_count": 0,
      "outputs": []
    },
    {
      "cell_type": "code",
      "metadata": {
        "id": "CgrXk4aLnu6E",
        "colab_type": "code",
        "outputId": "726175a1-35f8-4bad-bb70-6853e6dcd50d",
        "colab": {
          "base_uri": "https://localhost:8080/",
          "height": 52
        }
      },
      "source": [
        "apply_transform = transforms.Compose([transforms.Resize(32),transforms.ToTensor()])\n",
        "BatchSize = 512 # change according to system specs\n",
        "\n",
        "trainset = datasets.CIFAR100(root='./CIFAR100', train = True, download=True, transform=apply_transform)\n",
        "trainLoader = torch.utils.data.DataLoader(trainset, batch_size=BatchSize, shuffle=True, num_workers=4) # Creating dataloader\n",
        "\n",
        "testset = datasets.CIFAR100(root='./CIFAR100', train = False, download=True, transform=apply_transform)\n",
        "testLoader = torch.utils.data.DataLoader(testset, batch_size=BatchSize, shuffle=False, num_workers=4) # Creating dataloader"
      ],
      "execution_count": 20,
      "outputs": [
        {
          "output_type": "stream",
          "text": [
            "\r0it [00:00, ?it/s]"
          ],
          "name": "stderr"
        },
        {
          "output_type": "stream",
          "text": [
            "Downloading https://www.cs.toronto.edu/~kriz/cifar-100-python.tar.gz to ./CIFAR100/cifar-100-python.tar.gz\n"
          ],
          "name": "stdout"
        },
        {
          "output_type": "stream",
          "text": [
            "100%|█████████▉| 168747008/169001437 [00:16<00:00, 10354037.86it/s]"
          ],
          "name": "stderr"
        },
        {
          "output_type": "stream",
          "text": [
            "Files already downloaded and verified\n"
          ],
          "name": "stdout"
        }
      ]
    },
    {
      "cell_type": "code",
      "metadata": {
        "id": "EVEvrHUQoFcG",
        "colab_type": "code",
        "colab": {
          "base_uri": "https://localhost:8080/",
          "height": 86
        },
        "outputId": "22c93d83-7e57-4609-bdc1-e304dc1a5bcf"
      },
      "source": [
        "# Size of train and test datasets\n",
        "print('No. of samples in train set: '+str(len(trainLoader.dataset)))\n",
        "print('No. of samples in test set: '+str(len(testLoader.dataset)))\n",
        "train_size = len(trainLoader.dataset)\n",
        "test_size = len(testLoader.dataset)\n",
        "print(trainLoader.dataset.data.shape)\n",
        "print(np.shape(trainLoader.dataset.targets))"
      ],
      "execution_count": 47,
      "outputs": [
        {
          "output_type": "stream",
          "text": [
            "No. of samples in train set: 50000\n",
            "No. of samples in test set: 10000\n",
            "(50000, 32, 32, 3)\n",
            "(50000,)\n"
          ],
          "name": "stdout"
        }
      ]
    },
    {
      "cell_type": "code",
      "metadata": {
        "id": "NVKxCIfNW7K4",
        "colab_type": "code",
        "colab": {}
      },
      "source": [
        "class LeNet(nn.Module):\n",
        "    def __init__(self):\n",
        "        super(LeNet, self).__init__()\n",
        "        self.conv1 = nn.Conv2d(3,6,kernel_size = 5)\n",
        "        self.pool1 = nn.MaxPool2d(kernel_size = 2, stride = 2)\n",
        "        self.conv2 = nn.Conv2d(6,16,kernel_size = 5)\n",
        "        self.pool2 = nn.MaxPool2d(kernel_size = 2, stride = 2)\n",
        "        self.fc1 = nn.Linear(400, 120)\n",
        "        self.fc2 = nn.Linear(120, 84)\n",
        "        self.fc3 = nn.Linear(84, 100)\n",
        "    \n",
        "    def forward(self, x):\n",
        "        x = F.relu(self.conv1(x))\n",
        "        x = self.pool1(x)\n",
        "        x = F.relu(self.conv2(x))\n",
        "        x = self.pool2(x)\n",
        "        x = x.view(-1,400)\n",
        "        x = F.relu(self.fc1(x))\n",
        "        x = F.relu(self.fc2(x))\n",
        "        x = self.fc3(x)\n",
        "        return F.log_softmax(x, dim = 1)"
      ],
      "execution_count": 0,
      "outputs": []
    },
    {
      "cell_type": "code",
      "metadata": {
        "id": "Q8x8t-VWXBRj",
        "colab_type": "code",
        "colab": {
          "base_uri": "https://localhost:8080/",
          "height": 173
        },
        "outputId": "d9130247-19b7-4348-fc5c-4b8847628fb3"
      },
      "source": [
        "net = LeNet()\n",
        "print(net)"
      ],
      "execution_count": 24,
      "outputs": [
        {
          "output_type": "stream",
          "text": [
            "LeNet(\n",
            "  (conv1): Conv2d(3, 6, kernel_size=(5, 5), stride=(1, 1))\n",
            "  (pool1): MaxPool2d(kernel_size=2, stride=2, padding=0, dilation=1, ceil_mode=False)\n",
            "  (conv2): Conv2d(6, 16, kernel_size=(5, 5), stride=(1, 1))\n",
            "  (pool2): MaxPool2d(kernel_size=2, stride=2, padding=0, dilation=1, ceil_mode=False)\n",
            "  (fc1): Linear(in_features=400, out_features=120, bias=True)\n",
            "  (fc2): Linear(in_features=120, out_features=84, bias=True)\n",
            "  (fc3): Linear(in_features=84, out_features=100, bias=True)\n",
            ")\n"
          ],
          "name": "stdout"
        }
      ]
    },
    {
      "cell_type": "code",
      "metadata": {
        "id": "YuZDIQm1XST4",
        "colab_type": "code",
        "colab": {
          "base_uri": "https://localhost:8080/",
          "height": 34
        },
        "outputId": "d36c3017-ae7a-49ac-b371-e0f6517e7b28"
      },
      "source": [
        "# Check availability of GPU\n",
        "use_gpu = torch.cuda.is_available()\n",
        "if use_gpu:\n",
        "    print('GPU is available!')   \n",
        "    net = net.cuda()"
      ],
      "execution_count": 25,
      "outputs": [
        {
          "output_type": "stream",
          "text": [
            "GPU is available!\n"
          ],
          "name": "stdout"
        }
      ]
    },
    {
      "cell_type": "code",
      "metadata": {
        "id": "jNu86XTDXb-W",
        "colab_type": "code",
        "colab": {}
      },
      "source": [
        "criterion = nn.NLLLoss()\n",
        "optimizer = optim.Adam(net.parameters(), lr=0.01)"
      ],
      "execution_count": 0,
      "outputs": []
    },
    {
      "cell_type": "code",
      "metadata": {
        "id": "CBVNfEKYYQ8M",
        "colab_type": "code",
        "colab": {}
      },
      "source": [
        "CUDA_LAUNCH_BLOCKING=1"
      ],
      "execution_count": 0,
      "outputs": []
    },
    {
      "cell_type": "code",
      "metadata": {
        "id": "dqrMsnqcXd46",
        "colab_type": "code",
        "colab": {
          "base_uri": "https://localhost:8080/",
          "height": 1417
        },
        "outputId": "9e21f169-c1fb-4834-f2da-7a7fad307f70"
      },
      "source": [
        "iterations = 50\n",
        "trainLoss = []\n",
        "testAcc = []\n",
        "#i = 0\n",
        "for epoch in range(iterations):\n",
        "    epochStart = time.time()\n",
        "    runningLoss = 0\n",
        "    net.train(True)\n",
        "    for data in trainLoader:\n",
        "        inputs, labels = data\n",
        "        #i+=1\n",
        "        # Wrap inputs and labels into Variables\n",
        "        if use_gpu:\n",
        "            inputs, labels = Variable(inputs.cuda()), Variable(labels.cuda())\n",
        "        else:\n",
        "            inputs, labels = Variable(inputs), Variable(labels)\n",
        "        \n",
        "        # Initialize gradients to zero\n",
        "        optimizer.zero_grad()\n",
        "        \n",
        "        # Feedforward input through the network\n",
        "        output = net(inputs)\n",
        "        \n",
        "        # Compute loss\n",
        "        loss = criterion(output, labels)\n",
        "        \n",
        "        # Backpropagation\n",
        "        loss.backward()\n",
        "        \n",
        "        # Update the network parameters\n",
        "        optimizer.step()\n",
        "        \n",
        "        # Accumulate loss per batch\n",
        "        runningLoss += loss.data.item()\n",
        "    avgTrainLoss = runningLoss/train_size\n",
        "    trainLoss.append(avgTrainLoss)\n",
        "    \n",
        "    # Evaluating performance on test set for each epoch\n",
        "    with torch.no_grad(): # for evaluation\n",
        "        running_correct = 0\n",
        "        #j = 0\n",
        "        for data in testLoader:\n",
        "            inputs,labels = data\n",
        "            \n",
        "            # Wrap them in Variable\n",
        "            if use_gpu:\n",
        "                inputs = Variable(inputs.cuda())                \n",
        "                outputs = net(inputs)\n",
        "                #j+=1\n",
        "                #print(outputs,j)              \n",
        "                _, predicted = torch.max(outputs.data, 1)\n",
        "                \n",
        "                predicted = predicted.cpu()\n",
        "           \n",
        "            else:\n",
        "                inputs = Variable(inputs)\n",
        "                outputs = net(inputs)\n",
        "                \n",
        "                _, predicted = torch.max(outputs.data, 1)\n",
        "                \n",
        "            running_correct += (predicted == labels).sum()\n",
        "     \n",
        "        avgTestAcc = float(running_correct)/test_size\n",
        "  \n",
        "        testAcc.append(avgTestAcc)\n",
        "        \n",
        "    # Plotting training loss vs Epochs\n",
        "    fig1 = plt.figure(1)        \n",
        "    plt.plot(range(epoch+1),trainLoss,'r-',label='LeNet-5')        \n",
        "           \n",
        "    if epoch==0:\n",
        "        plt.legend(loc='upper left')\n",
        "        plt.xlabel('Epochs')\n",
        "        plt.ylabel('Training loss')   \n",
        "    # Plotting testing accuracy vs Epochs\n",
        "    fig2 = plt.figure(2)        \n",
        "    plt.plot(range(epoch+1),testAcc,'r-',label='LeNet-5')        \n",
        "        \n",
        "    if epoch==0:\n",
        "        plt.legend(loc='upper left')\n",
        "        plt.xlabel('Epochs')\n",
        "        plt.ylabel('Testing accuracy')    \n",
        "    epochEnd = time.time()-epochStart\n",
        "    print('Iteration: {:.0f} /{:.0f}  ; LeNet:  Training Loss: {:.6f} ; Testing Acc: {:.3f} ; Time consumed: {:.0f}m {:.0f}s '\\\n",
        "          .format(epoch + 1,iterations,avgTrainLoss,avgTestAcc*100,epochEnd//60,epochEnd%60))"
      ],
      "execution_count": 53,
      "outputs": [
        {
          "output_type": "stream",
          "text": [
            "Iteration: 1 /50  ; LeNet:  Training Loss: 0.005926 ; Testing Acc: 20.110 ; Time consumed: 0m 5s \n",
            "Iteration: 2 /50  ; LeNet:  Training Loss: 0.005878 ; Testing Acc: 21.060 ; Time consumed: 0m 6s \n",
            "Iteration: 3 /50  ; LeNet:  Training Loss: 0.005930 ; Testing Acc: 20.550 ; Time consumed: 0m 6s \n",
            "Iteration: 4 /50  ; LeNet:  Training Loss: 0.005949 ; Testing Acc: 20.910 ; Time consumed: 0m 6s \n",
            "Iteration: 5 /50  ; LeNet:  Training Loss: 0.005882 ; Testing Acc: 21.330 ; Time consumed: 0m 6s \n",
            "Iteration: 6 /50  ; LeNet:  Training Loss: 0.005934 ; Testing Acc: 19.660 ; Time consumed: 0m 6s \n",
            "Iteration: 7 /50  ; LeNet:  Training Loss: 0.005875 ; Testing Acc: 19.990 ; Time consumed: 0m 7s \n",
            "Iteration: 8 /50  ; LeNet:  Training Loss: 0.005919 ; Testing Acc: 21.630 ; Time consumed: 0m 7s \n",
            "Iteration: 9 /50  ; LeNet:  Training Loss: 0.005856 ; Testing Acc: 21.210 ; Time consumed: 0m 6s \n",
            "Iteration: 10 /50  ; LeNet:  Training Loss: 0.005842 ; Testing Acc: 21.220 ; Time consumed: 0m 6s \n",
            "Iteration: 11 /50  ; LeNet:  Training Loss: 0.005855 ; Testing Acc: 20.570 ; Time consumed: 0m 6s \n",
            "Iteration: 12 /50  ; LeNet:  Training Loss: 0.005872 ; Testing Acc: 19.490 ; Time consumed: 0m 6s \n",
            "Iteration: 13 /50  ; LeNet:  Training Loss: 0.005877 ; Testing Acc: 21.120 ; Time consumed: 0m 6s \n",
            "Iteration: 14 /50  ; LeNet:  Training Loss: 0.005846 ; Testing Acc: 21.190 ; Time consumed: 0m 6s \n",
            "Iteration: 15 /50  ; LeNet:  Training Loss: 0.005846 ; Testing Acc: 20.770 ; Time consumed: 0m 6s \n",
            "Iteration: 16 /50  ; LeNet:  Training Loss: 0.005806 ; Testing Acc: 21.330 ; Time consumed: 0m 6s \n",
            "Iteration: 17 /50  ; LeNet:  Training Loss: 0.005790 ; Testing Acc: 20.410 ; Time consumed: 0m 6s \n",
            "Iteration: 18 /50  ; LeNet:  Training Loss: 0.005823 ; Testing Acc: 21.160 ; Time consumed: 0m 6s \n",
            "Iteration: 19 /50  ; LeNet:  Training Loss: 0.005816 ; Testing Acc: 20.820 ; Time consumed: 0m 7s \n",
            "Iteration: 20 /50  ; LeNet:  Training Loss: 0.005810 ; Testing Acc: 20.420 ; Time consumed: 0m 7s \n",
            "Iteration: 21 /50  ; LeNet:  Training Loss: 0.005824 ; Testing Acc: 21.360 ; Time consumed: 0m 7s \n",
            "Iteration: 22 /50  ; LeNet:  Training Loss: 0.005794 ; Testing Acc: 20.240 ; Time consumed: 0m 6s \n",
            "Iteration: 23 /50  ; LeNet:  Training Loss: 0.005781 ; Testing Acc: 20.430 ; Time consumed: 0m 6s \n",
            "Iteration: 24 /50  ; LeNet:  Training Loss: 0.005799 ; Testing Acc: 21.160 ; Time consumed: 0m 6s \n",
            "Iteration: 25 /50  ; LeNet:  Training Loss: 0.005780 ; Testing Acc: 20.750 ; Time consumed: 0m 6s \n",
            "Iteration: 26 /50  ; LeNet:  Training Loss: 0.005772 ; Testing Acc: 20.460 ; Time consumed: 0m 6s \n",
            "Iteration: 27 /50  ; LeNet:  Training Loss: 0.005829 ; Testing Acc: 20.560 ; Time consumed: 0m 6s \n",
            "Iteration: 28 /50  ; LeNet:  Training Loss: 0.005752 ; Testing Acc: 21.080 ; Time consumed: 0m 6s \n",
            "Iteration: 29 /50  ; LeNet:  Training Loss: 0.005756 ; Testing Acc: 21.000 ; Time consumed: 0m 6s \n",
            "Iteration: 30 /50  ; LeNet:  Training Loss: 0.005747 ; Testing Acc: 20.360 ; Time consumed: 0m 6s \n",
            "Iteration: 31 /50  ; LeNet:  Training Loss: 0.005801 ; Testing Acc: 21.030 ; Time consumed: 0m 6s \n",
            "Iteration: 32 /50  ; LeNet:  Training Loss: 0.005736 ; Testing Acc: 19.700 ; Time consumed: 0m 7s \n",
            "Iteration: 33 /50  ; LeNet:  Training Loss: 0.005763 ; Testing Acc: 20.680 ; Time consumed: 0m 7s \n",
            "Iteration: 34 /50  ; LeNet:  Training Loss: 0.005754 ; Testing Acc: 21.130 ; Time consumed: 0m 6s \n",
            "Iteration: 35 /50  ; LeNet:  Training Loss: 0.005714 ; Testing Acc: 21.010 ; Time consumed: 0m 6s \n",
            "Iteration: 36 /50  ; LeNet:  Training Loss: 0.005761 ; Testing Acc: 20.560 ; Time consumed: 0m 6s \n",
            "Iteration: 37 /50  ; LeNet:  Training Loss: 0.005728 ; Testing Acc: 20.900 ; Time consumed: 0m 6s \n",
            "Iteration: 38 /50  ; LeNet:  Training Loss: 0.005696 ; Testing Acc: 20.160 ; Time consumed: 0m 6s \n",
            "Iteration: 39 /50  ; LeNet:  Training Loss: 0.005686 ; Testing Acc: 21.140 ; Time consumed: 0m 6s \n",
            "Iteration: 40 /50  ; LeNet:  Training Loss: 0.005711 ; Testing Acc: 20.860 ; Time consumed: 0m 6s \n",
            "Iteration: 41 /50  ; LeNet:  Training Loss: 0.005675 ; Testing Acc: 21.150 ; Time consumed: 0m 6s \n",
            "Iteration: 42 /50  ; LeNet:  Training Loss: 0.005684 ; Testing Acc: 21.420 ; Time consumed: 0m 6s \n",
            "Iteration: 43 /50  ; LeNet:  Training Loss: 0.005678 ; Testing Acc: 21.000 ; Time consumed: 0m 6s \n",
            "Iteration: 44 /50  ; LeNet:  Training Loss: 0.005693 ; Testing Acc: 20.740 ; Time consumed: 0m 7s \n",
            "Iteration: 45 /50  ; LeNet:  Training Loss: 0.005737 ; Testing Acc: 21.180 ; Time consumed: 0m 8s \n",
            "Iteration: 46 /50  ; LeNet:  Training Loss: 0.005714 ; Testing Acc: 20.440 ; Time consumed: 0m 7s \n",
            "Iteration: 47 /50  ; LeNet:  Training Loss: 0.005695 ; Testing Acc: 20.550 ; Time consumed: 0m 7s \n",
            "Iteration: 48 /50  ; LeNet:  Training Loss: 0.005655 ; Testing Acc: 20.530 ; Time consumed: 0m 7s \n",
            "Iteration: 49 /50  ; LeNet:  Training Loss: 0.005704 ; Testing Acc: 20.540 ; Time consumed: 0m 7s \n",
            "Iteration: 50 /50  ; LeNet:  Training Loss: 0.005633 ; Testing Acc: 20.630 ; Time consumed: 0m 7s \n"
          ],
          "name": "stdout"
        },
        {
          "output_type": "display_data",
          "data": {
            "image/png": "[encoded data removed]",
            "text/plain": [
              "<Figure size 432x288 with 1 Axes>"
            ]
          },
          "metadata": {
            "tags": []
          }
        },
        {
          "output_type": "display_data",
          "data": {
            "image/png": "[encoded data removed]",
            "text/plain": [
              "<Figure size 432x288 with 1 Axes>"
            ]
          },
          "metadata": {
            "tags": []
          }
        }
      ]
    },
    {
      "cell_type": "code",
      "metadata": {
        "id": "zZaSRnFjXjAE",
        "colab_type": "code",
        "colab": {}
      },
      "source": [
        "def imshow(img):\n",
        "    npimg = img.numpy()\n",
        "    plt.imshow(np.transpose(npimg, (1,2,0)), interpolation='nearest')\n",
        "    plt.axis('off')\n",
        "    plt.show()"
      ],
      "execution_count": 0,
      "outputs": []
    },
    {
      "cell_type": "code",
      "metadata": {
        "id": "VXruooyIAbjW",
        "colab_type": "code",
        "colab": {}
      },
      "source": [
        "# classes = ['beaver', 'dolphin', 'otter', 'seal', 'whale'\n",
        "# ,'aquarium_fish', 'flatfish', 'ray', 'shark', 'trout', 'orchids', 'poppies', 'roses', 'sunflowers', 'tulips', 'bottles', 'bowls', 'cans', 'cups', 'plates'\n",
        "# ,'apples', 'mushrooms', 'oranges', 'pears', 'sweet_peppers'\n",
        "# ,'clock', 'computer_keyboard', 'lamp', 'telephone', 'television'\n",
        "# ,'bed', 'chair', 'couch', 'table', 'wardrobe'\n",
        "# ,'bee', 'beetle', 'butterfly', 'caterpillar', 'cockroach'\n",
        "# ,'bear', 'leopard', 'lion', 'tiger', 'wolf'\n",
        "# ,'bridge', 'castle', 'house', 'road', 'skyscraper'\n",
        "# ,'cloud', 'forest', 'mountain', 'plain', 'sea'\n",
        "# ,'camel', 'cattle', 'chimpanzee', 'elephant', 'kangaroo'\n",
        "# ,'fox', 'porcupine', 'possum', 'raccoon', 'skunk'\n",
        "# ,'crab', 'lobster', 'snail', 'spider', 'worm'\n",
        "# ,'baby', 'boy', 'girl', 'man', 'woman'\n",
        "# ,'crocodile', 'dinosaur', 'lizard', 'snake', 'turtle'\n",
        "# ,'hamster', 'mouse', 'rabbit', 'shrew', 'squirrel'\n",
        "# ,'maple', 'oak', 'palm', 'pine', 'willow'\n",
        "# ,'bicycle', 'bus', 'motorcycle', 'pickup_truck', 'train'\n",
        "# ,'lawn-mower', 'rocket', 'streetcar', 'tank', 'tractor']\n",
        "class_idx = np.arange(1,101)\n",
        "#print(class_idx)"
      ],
      "execution_count": 0,
      "outputs": []
    },
    {
      "cell_type": "code",
      "metadata": {
        "id": "DQVhGhQVAoWG",
        "colab_type": "code",
        "colab": {
          "base_uri": "https://localhost:8080/",
          "height": 156
        },
        "outputId": "cc619631-36f5-4abc-c751-d7c8914ce676"
      },
      "source": [
        "dataiter = iter(testLoader)\n",
        "inputs, labels = dataiter.next()\n",
        "\n",
        "# print images\n",
        "imshow(torchvision.utils.make_grid(inputs[:5], nrow=5))\n",
        "print('GroundTruth: ', ' '.join('%8s' % class_idx[labels[j]] for j in range(5)))\n",
        "\n",
        "# Get the predicted outputs\n",
        "if use_gpu:\n",
        "    inputs = Variable(inputs.cuda())                \n",
        "    outputs = net(inputs)\n",
        "    probabilities, predicted = torch.max(outputs.data, 1)                \n",
        "    predicted = predicted.cpu()           \n",
        "else:\n",
        "    inputs = Variable(inputs)\n",
        "    outputs = net(inputs)                \n",
        "    probabilities, predicted = torch.max(outputs.data, 1)\n",
        "probabilities_np = probabilities.cpu().data.numpy()\n",
        "print('Predicted: ', ' '.join('%3s (%.2f)' % (class_idx[predicted[j]], torch.exp(probabilities[j])) for j in range(5)))"
      ],
      "execution_count": 57,
      "outputs": [
        {
          "output_type": "display_data",
          "data": {
            "image/png": "[encoded data removed]",
            "text/plain": [
              "<Figure size 432x288 with 1 Axes>"
            ]
          },
          "metadata": {
            "tags": []
          }
        },
        {
          "output_type": "stream",
          "text": [
            "GroundTruth:        50       34       73       52       72\n",
            "Predicted:   13 (0.14)  64 (0.11)  28 (0.15)  92 (0.11)  72 (0.22)\n"
          ],
          "name": "stdout"
        }
      ]
    },
    {
      "cell_type": "code",
      "metadata": {
        "id": "I3J7TPbVAtmD",
        "colab_type": "code",
        "colab": {}
      },
      "source": [
        ""
      ],
      "execution_count": 0,
      "outputs": []
    }
  ]
}