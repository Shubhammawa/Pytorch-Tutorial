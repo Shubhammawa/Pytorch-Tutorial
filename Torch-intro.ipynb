{
 "cells": [
  {
   "cell_type": "code",
   "execution_count": 34,
   "metadata": {},
   "outputs": [],
   "source": [
    "import torch\n",
    "import torch.autograd as autograd\n",
    "import torch.nn as nn\n",
    "import torch.nn.functional as F\n",
    "import torch.optim as optim"
   ]
  },
  {
   "cell_type": "code",
   "execution_count": 35,
   "metadata": {},
   "outputs": [
    {
     "data": {
      "text/plain": [
       "<torch._C.Generator at 0x7ffa800940d0>"
      ]
     },
     "execution_count": 35,
     "metadata": {},
     "output_type": "execute_result"
    }
   ],
   "source": [
    "torch.manual_seed(1)"
   ]
  },
  {
   "cell_type": "code",
   "execution_count": 36,
   "metadata": {},
   "outputs": [
    {
     "name": "stdout",
     "output_type": "stream",
     "text": [
      "tensor([1, 2, 3])\n"
     ]
    }
   ],
   "source": [
    "V_data = [1,2,3]\n",
    "V = torch.tensor(V_data)\n",
    "print(V)"
   ]
  },
  {
   "cell_type": "code",
   "execution_count": 37,
   "metadata": {},
   "outputs": [
    {
     "name": "stdout",
     "output_type": "stream",
     "text": [
      "<class 'torch.Tensor'>\n"
     ]
    }
   ],
   "source": [
    "print(type(V[0]))"
   ]
  },
  {
   "cell_type": "code",
   "execution_count": 38,
   "metadata": {},
   "outputs": [
    {
     "name": "stdout",
     "output_type": "stream",
     "text": [
      "tensor(6)\n"
     ]
    }
   ],
   "source": [
    "print(V[0]+V[1]+V[2])"
   ]
  },
  {
   "cell_type": "code",
   "execution_count": 39,
   "metadata": {},
   "outputs": [
    {
     "name": "stdout",
     "output_type": "stream",
     "text": [
      "tensor([[1, 2, 3],\n",
      "        [4, 5, 6]])\n"
     ]
    }
   ],
   "source": [
    "M_data = [[1,2,3],[4,5,6]]\n",
    "M = torch.tensor(M_data)\n",
    "print(M)"
   ]
  },
  {
   "cell_type": "code",
   "execution_count": 40,
   "metadata": {},
   "outputs": [
    {
     "name": "stdout",
     "output_type": "stream",
     "text": [
      "tensor([[[1, 2],\n",
      "         [3, 4]],\n",
      "\n",
      "        [[5, 6],\n",
      "         [7, 8]]])\n"
     ]
    }
   ],
   "source": [
    "T_data = [[[1,2],[3,4]],[[5,6],[7,8]]]\n",
    "T = torch.tensor(T_data)\n",
    "print(T)"
   ]
  },
  {
   "cell_type": "code",
   "execution_count": 41,
   "metadata": {},
   "outputs": [
    {
     "name": "stdout",
     "output_type": "stream",
     "text": [
      "<class 'int'>\n"
     ]
    }
   ],
   "source": [
    "print(type(V[0].item()))"
   ]
  },
  {
   "cell_type": "code",
   "execution_count": 42,
   "metadata": {},
   "outputs": [
    {
     "name": "stdout",
     "output_type": "stream",
     "text": [
      "5\n"
     ]
    }
   ],
   "source": [
    "print(M[1][1].item())"
   ]
  },
  {
   "cell_type": "code",
   "execution_count": 43,
   "metadata": {},
   "outputs": [],
   "source": [
    "x = torch.randn((3,4,5))"
   ]
  },
  {
   "cell_type": "code",
   "execution_count": 44,
   "metadata": {},
   "outputs": [
    {
     "name": "stdout",
     "output_type": "stream",
     "text": [
      "tensor([[[-1.5256, -0.7502, -0.6540, -1.6095, -0.1002],\n",
      "         [-0.6092, -0.9798, -1.6091, -0.7121,  0.3037],\n",
      "         [-0.7773, -0.2515, -0.2223,  1.6871,  0.2284],\n",
      "         [ 0.4676, -0.6970, -1.1608,  0.6995,  0.1991]],\n",
      "\n",
      "        [[ 0.8657,  0.2444, -0.6629,  0.8073,  1.1017],\n",
      "         [-0.1759, -2.2456, -1.4465,  0.0612, -0.6177],\n",
      "         [-0.7981, -0.1316,  1.8793, -0.0721,  0.1578],\n",
      "         [-0.7735,  0.1991,  0.0457,  0.1530, -0.4757]],\n",
      "\n",
      "        [[-0.1110,  0.2927, -0.1578, -0.0288,  0.4533],\n",
      "         [ 1.1422,  0.2486, -1.7754, -0.0255, -1.0233],\n",
      "         [-0.5962, -1.0055,  0.4285,  1.4761, -1.7869],\n",
      "         [ 1.6103, -0.7040, -0.1853, -0.9962, -0.8313]]])\n"
     ]
    }
   ],
   "source": [
    "print(x)"
   ]
  },
  {
   "cell_type": "code",
   "execution_count": 45,
   "metadata": {},
   "outputs": [
    {
     "name": "stdout",
     "output_type": "stream",
     "text": [
      "tensor([ 3,  7, 13])\n"
     ]
    }
   ],
   "source": [
    "x = torch.tensor([1,3,6])\n",
    "y = torch.tensor([2,4,7])\n",
    "z = x+y\n",
    "print(z)"
   ]
  },
  {
   "cell_type": "code",
   "execution_count": 49,
   "metadata": {},
   "outputs": [
    {
     "name": "stdout",
     "output_type": "stream",
     "text": [
      "tensor([[-0.1153,  0.3170,  0.5629,  0.8662, -0.3528],\n",
      "        [ 0.3482,  1.1371, -0.3339, -1.4724,  0.7296],\n",
      "        [-0.1312, -0.6368,  1.0429,  0.4903,  1.0318],\n",
      "        [-0.5989,  1.6015, -1.0735, -1.2173,  0.6472],\n",
      "        [-0.0412, -0.1775, -0.5000,  0.8673, -0.2732]])\n"
     ]
    }
   ],
   "source": [
    "x1 = torch.randn(2,5)\n",
    "y1 = torch.randn(3,5)\n",
    "z1 = torch.cat([x1,y1])\n",
    "print(z1)"
   ]
  },
  {
   "cell_type": "code",
   "execution_count": 51,
   "metadata": {},
   "outputs": [
    {
     "name": "stdout",
     "output_type": "stream",
     "text": [
      "tensor([[ 0.0772, -0.9339,  0.0914,  0.1924,  0.7161, -0.8120, -1.4617,  0.2328],\n",
      "        [ 1.3940, -0.6877, -0.5058,  0.1896, -0.2204,  0.1491,  0.0100, -0.1243]])\n"
     ]
    }
   ],
   "source": [
    "x2 = torch.randn(2,3)\n",
    "y2 = torch.randn(2,5)\n",
    "z2 = torch.cat([x2,y2],1)\n",
    "print(z2)"
   ]
  },
  {
   "cell_type": "code",
   "execution_count": 52,
   "metadata": {},
   "outputs": [
    {
     "name": "stdout",
     "output_type": "stream",
     "text": [
      "tensor([[[ 7.2246e-01,  1.5264e-01,  1.4496e-01, -2.3442e+00],\n",
      "         [-4.6194e-01, -3.6861e-01,  3.6825e-01,  4.8496e-01],\n",
      "         [-1.5521e+00, -6.4898e-01, -7.7376e-02, -6.0421e-01]],\n",
      "\n",
      "        [[-5.7315e-01,  9.5778e-01,  9.8202e-04, -1.3848e+00],\n",
      "         [-1.8792e-01,  1.0325e+00, -2.4865e-01, -4.7209e-01],\n",
      "         [ 1.3109e+00, -3.1671e-01, -1.8610e-01, -5.7646e-01]]])\n",
      "tensor([[ 7.2246e-01,  1.5264e-01,  1.4496e-01, -2.3442e+00, -4.6194e-01,\n",
      "         -3.6861e-01,  3.6825e-01,  4.8496e-01, -1.5521e+00, -6.4898e-01,\n",
      "         -7.7376e-02, -6.0421e-01],\n",
      "        [-5.7315e-01,  9.5778e-01,  9.8202e-04, -1.3848e+00, -1.8792e-01,\n",
      "          1.0325e+00, -2.4865e-01, -4.7209e-01,  1.3109e+00, -3.1671e-01,\n",
      "         -1.8610e-01, -5.7646e-01]])\n"
     ]
    }
   ],
   "source": [
    "x = torch.randn(2,3,4)\n",
    "print(x)\n",
    "print(x.view(2,12))"
   ]
  },
  {
   "cell_type": "code",
   "execution_count": 53,
   "metadata": {},
   "outputs": [
    {
     "name": "stdout",
     "output_type": "stream",
     "text": [
      "tensor([[ 7.2246e-01,  1.5264e-01,  1.4496e-01, -2.3442e+00, -4.6194e-01,\n",
      "         -3.6861e-01],\n",
      "        [ 3.6825e-01,  4.8496e-01, -1.5521e+00, -6.4898e-01, -7.7376e-02,\n",
      "         -6.0421e-01],\n",
      "        [-5.7315e-01,  9.5778e-01,  9.8202e-04, -1.3848e+00, -1.8792e-01,\n",
      "          1.0325e+00],\n",
      "        [-2.4865e-01, -4.7209e-01,  1.3109e+00, -3.1671e-01, -1.8610e-01,\n",
      "         -5.7646e-01]])\n"
     ]
    }
   ],
   "source": [
    "x_r = x.view(4,6)\n",
    "print(x_r)"
   ]
  }
 ],
 "metadata": {
  "kernelspec": {
   "display_name": "Python 3",
   "language": "python",
   "name": "python3"
  },
  "language_info": {
   "codemirror_mode": {
    "name": "ipython",
    "version": 3
   },
   "file_extension": ".py",
   "mimetype": "text/x-python",
   "name": "python",
   "nbconvert_exporter": "python",
   "pygments_lexer": "ipython3",
   "version": "3.5.2"
  }
 },
 "nbformat": 4,
 "nbformat_minor": 2
}
