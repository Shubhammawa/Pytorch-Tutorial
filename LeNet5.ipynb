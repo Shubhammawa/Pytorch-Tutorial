{
  "nbformat": 4,
  "nbformat_minor": 0,
  "metadata": {
    "colab": {
      "name": "LeNet5.ipynb",
      "version": "0.3.2",
      "provenance": [],
      "collapsed_sections": [],
      "include_colab_link": true
    },
    "kernelspec": {
      "name": "python3",
      "display_name": "Python 3"
    },
    "accelerator": "GPU"
  },
  "cells": [
    {
      "cell_type": "markdown",
      "metadata": {
        "id": "view-in-github",
        "colab_type": "text"
      },
      "source": [
        "<a href=\"https://colab.research.google.com/github/Shubhammawa/Pytorch-Tutorial/blob/master/LeNet5.ipynb\" target=\"_parent\"><img src=\"https://colab.research.google.com/assets/colab-badge.svg\" alt=\"Open In Colab\"/></a>"
      ]
    },
    {
      "cell_type": "code",
      "metadata": {
        "id": "xeOJxxBe2amm",
        "colab_type": "code",
        "colab": {}
      },
      "source": [
        "import numpy as np\n",
        "import torch\n",
        "import matplotlib.pyplot as plt\n",
        "import torch.nn as nn\n",
        "from torchvision import transforms,datasets\n",
        "import torch.optim as optim\n",
        "from torch.autograd import Variable\n",
        "import torchvision\n",
        "import torch.nn.functional as F\n",
        "import time"
      ],
      "execution_count": 0,
      "outputs": []
    },
    {
      "cell_type": "code",
      "metadata": {
        "id": "VTbOTx7Z5ExX",
        "colab_type": "code",
        "outputId": "58d5d2b8-e486-430e-c65b-f94544999d7e",
        "colab": {
          "base_uri": "https://localhost:8080/",
          "height": 280
        }
      },
      "source": [
        "apply_transform = transforms.Compose([transforms.Resize(32),transforms.ToTensor()])\n",
        "BatchSize = 256 # change according to system specs\n",
        "\n",
        "trainset = datasets.MNIST(root='./MNIST', train=True, download=True, transform=apply_transform)\n",
        "trainLoader = torch.utils.data.DataLoader(trainset, batch_size=BatchSize, shuffle=True, num_workers=4) # Creating dataloader\n",
        "\n",
        "testset = datasets.MNIST(root='./MNIST', train=False, download=True, transform=apply_transform)\n",
        "testLoader = torch.utils.data.DataLoader(testset, batch_size=BatchSize, shuffle=False, num_workers=4) # Creating dataloader"
      ],
      "execution_count": 2,
      "outputs": [
        {
          "output_type": "stream",
          "text": [
            "\r0it [00:00, ?it/s]"
          ],
          "name": "stderr"
        },
        {
          "output_type": "stream",
          "text": [
            "Downloading http://yann.lecun.com/exdb/mnist/train-images-idx3-ubyte.gz to ./MNIST/MNIST/raw/train-images-idx3-ubyte.gz\n"
          ],
          "name": "stdout"
        },
        {
          "output_type": "stream",
          "text": [
            "9920512it [00:01, 8548426.02it/s]                            \n"
          ],
          "name": "stderr"
        },
        {
          "output_type": "stream",
          "text": [
            "Extracting ./MNIST/MNIST/raw/train-images-idx3-ubyte.gz\n"
          ],
          "name": "stdout"
        },
        {
          "output_type": "stream",
          "text": [
            "  0%|          | 0/28881 [00:00<?, ?it/s]"
          ],
          "name": "stderr"
        },
        {
          "output_type": "stream",
          "text": [
            "Downloading http://yann.lecun.com/exdb/mnist/train-labels-idx1-ubyte.gz to ./MNIST/MNIST/raw/train-labels-idx1-ubyte.gz\n"
          ],
          "name": "stdout"
        },
        {
          "output_type": "stream",
          "text": [
            "32768it [00:00, 136652.38it/s]           \n",
            "  0%|          | 0/1648877 [00:00<?, ?it/s]"
          ],
          "name": "stderr"
        },
        {
          "output_type": "stream",
          "text": [
            "Extracting ./MNIST/MNIST/raw/train-labels-idx1-ubyte.gz\n",
            "Downloading http://yann.lecun.com/exdb/mnist/t10k-images-idx3-ubyte.gz to ./MNIST/MNIST/raw/t10k-images-idx3-ubyte.gz\n"
          ],
          "name": "stdout"
        },
        {
          "output_type": "stream",
          "text": [
            "1654784it [00:00, 2243135.47it/s]                            \n",
            "0it [00:00, ?it/s]"
          ],
          "name": "stderr"
        },
        {
          "output_type": "stream",
          "text": [
            "Extracting ./MNIST/MNIST/raw/t10k-images-idx3-ubyte.gz\n",
            "Downloading http://yann.lecun.com/exdb/mnist/t10k-labels-idx1-ubyte.gz to ./MNIST/MNIST/raw/t10k-labels-idx1-ubyte.gz\n"
          ],
          "name": "stdout"
        },
        {
          "output_type": "stream",
          "text": [
            "8192it [00:00, 51030.40it/s]            \n"
          ],
          "name": "stderr"
        },
        {
          "output_type": "stream",
          "text": [
            "Extracting ./MNIST/MNIST/raw/t10k-labels-idx1-ubyte.gz\n",
            "Processing...\n",
            "Done!\n"
          ],
          "name": "stdout"
        }
      ]
    },
    {
      "cell_type": "code",
      "metadata": {
        "id": "HrZJxOPz6xfa",
        "colab_type": "code",
        "outputId": "5c3fc20b-1365-4ba9-8985-2c47ee9f7ce1",
        "colab": {
          "base_uri": "https://localhost:8080/",
          "height": 52
        }
      },
      "source": [
        "# Size of train and test datasets\n",
        "print('No. of samples in train set: '+str(len(trainLoader.dataset)))\n",
        "print('No. of samples in test set: '+str(len(testLoader.dataset)))"
      ],
      "execution_count": 3,
      "outputs": [
        {
          "output_type": "stream",
          "text": [
            "No. of samples in train set: 60000\n",
            "No. of samples in test set: 10000\n"
          ],
          "name": "stdout"
        }
      ]
    },
    {
      "cell_type": "code",
      "metadata": {
        "id": "1LlvC4a264s1",
        "colab_type": "code",
        "colab": {}
      },
      "source": [
        "class LeNet(nn.Module):\n",
        "    def __init__(self):\n",
        "        super(LeNet, self).__init__()\n",
        "        self.conv1 = nn.Conv2d(1,6,kernel_size = 5)\n",
        "        self.pool1 = nn.MaxPool2d(kernel_size = 2, stride = 2)\n",
        "        self.conv2 = nn.Conv2d(6,16,kernel_size = 5)\n",
        "        self.pool2 = nn.MaxPool2d(kernel_size = 2, stride = 2)\n",
        "        self.fc1 = nn.Linear(400, 120)\n",
        "        self.fc2 = nn.Linear(120, 84)\n",
        "        self.fc3 = nn.Linear(84, 10)\n",
        "    \n",
        "    def forward(self, x):\n",
        "        x = F.relu(self.conv1(x))\n",
        "        x = self.pool1(x)\n",
        "        x = F.relu(self.conv2(x))\n",
        "        x = self.pool2(x)\n",
        "        x = x.view(-1,400)\n",
        "        x = F.relu(self.fc1(x))\n",
        "        x = F.relu(self.fc2(x))\n",
        "        x = self.fc3(x)\n",
        "        return F.log_softmax(x, dim = 1)"
      ],
      "execution_count": 0,
      "outputs": []
    },
    {
      "cell_type": "code",
      "metadata": {
        "id": "jAR2NOAYVEOZ",
        "colab_type": "code",
        "colab": {
          "base_uri": "https://localhost:8080/",
          "height": 173
        },
        "outputId": "464eb50d-8768-43b4-c666-66019de8e3da"
      },
      "source": [
        "net = LeNet()\n",
        "print(net)"
      ],
      "execution_count": 5,
      "outputs": [
        {
          "output_type": "stream",
          "text": [
            "LeNet(\n",
            "  (conv1): Conv2d(1, 6, kernel_size=(5, 5), stride=(1, 1))\n",
            "  (pool1): MaxPool2d(kernel_size=2, stride=2, padding=0, dilation=1, ceil_mode=False)\n",
            "  (conv2): Conv2d(6, 16, kernel_size=(5, 5), stride=(1, 1))\n",
            "  (pool2): MaxPool2d(kernel_size=2, stride=2, padding=0, dilation=1, ceil_mode=False)\n",
            "  (fc1): Linear(in_features=400, out_features=120, bias=True)\n",
            "  (fc2): Linear(in_features=120, out_features=84, bias=True)\n",
            "  (fc3): Linear(in_features=84, out_features=10, bias=True)\n",
            ")\n"
          ],
          "name": "stdout"
        }
      ]
    },
    {
      "cell_type": "code",
      "metadata": {
        "id": "lYSe2vZLlDO2",
        "colab_type": "code",
        "colab": {
          "base_uri": "https://localhost:8080/",
          "height": 34
        },
        "outputId": "ac073500-9a52-4f26-ec4d-db4dabb30866"
      },
      "source": [
        "# Check availability of GPU\n",
        "use_gpu = torch.cuda.is_available()\n",
        "if use_gpu:\n",
        "    print('GPU is available!')   \n",
        "    net = net.cuda()"
      ],
      "execution_count": 7,
      "outputs": [
        {
          "output_type": "stream",
          "text": [
            "GPU is available!\n"
          ],
          "name": "stdout"
        }
      ]
    },
    {
      "cell_type": "code",
      "metadata": {
        "id": "uDBrVACSlGAg",
        "colab_type": "code",
        "colab": {}
      },
      "source": [
        "criterion = nn.NLLLoss()\n",
        "optimizer = optim.Adam(net.parameters(), lr=0.0001)"
      ],
      "execution_count": 0,
      "outputs": []
    },
    {
      "cell_type": "code",
      "metadata": {
        "id": "lNgUg2pnlQ2Z",
        "colab_type": "code",
        "colab": {
          "base_uri": "https://localhost:8080/",
          "height": 810
        },
        "outputId": "4a314429-a710-4c85-e1f5-e4032c4bf9a7"
      },
      "source": [
        "iterations = 15\n",
        "trainLoss = []\n",
        "testAcc = []\n",
        "\n",
        "for epoch in range(iterations):\n",
        "    epochStart = time.time()\n",
        "    runningLoss = 0\n",
        "    net.train(True)\n",
        "    for data in trainLoader:\n",
        "        inputs, labels = data\n",
        "        \n",
        "        # Wrap inputs and labels into Variables\n",
        "        if use_gpu:\n",
        "            inputs, labels = Variable(inputs.cuda()), Variable(labels.cuda())\n",
        "        else:\n",
        "            inputs, labels = Variable(inputs), Variable(labels)\n",
        "        \n",
        "        # Initialize gradients to zero\n",
        "        optimizer.zero_grad()\n",
        "        \n",
        "        # Feedforward input through the network\n",
        "        output = net(inputs)\n",
        "        \n",
        "        # Compute loss\n",
        "        loss = criterion(output, labels)\n",
        "        \n",
        "        # Backpropagation\n",
        "        loss.backward()\n",
        "        \n",
        "        # Update the network parameters\n",
        "        optimizer.step()\n",
        "        \n",
        "        # Accumulate loss per batch\n",
        "        runningLoss += loss.data.item()\n",
        "    avgTrainLoss = runningLoss/60000\n",
        "    trainLoss.append(avgTrainLoss)\n",
        "    \n",
        "    # Evaluating performance on test set for each epoch\n",
        "    with torch.no_grad(): # for evaluation\n",
        "        running_correct = 0\n",
        "        for data in testLoader:\n",
        "            inputs,labels = data\n",
        "            \n",
        "            # Wrap them in Variable\n",
        "            if use_gpu:\n",
        "                inputs = Variable(inputs.cuda())                \n",
        "                outputs = net(inputs)\n",
        "               \n",
        "                _, predicted = torch.max(outputs.data, 1)\n",
        "                \n",
        "                predicted = predicted.cpu()\n",
        "           \n",
        "            else:\n",
        "                inputs = Variable(inputs)\n",
        "                outputs = net(inputs)\n",
        "                \n",
        "                _, predicted = torch.max(outputs.data, 1)\n",
        "                \n",
        "            running_correct += (predicted == labels).sum()\n",
        "     \n",
        "        avgTestAcc = float(running_correct)/10000.0\n",
        "  \n",
        "        testAcc.append(avgTestAcc)\n",
        "        \n",
        "    # Plotting training loss vs Epochs\n",
        "    fig1 = plt.figure(1)        \n",
        "    plt.plot(range(epoch+1),trainLoss,'r-',label='LeNet-5')        \n",
        "           \n",
        "    if epoch==0:\n",
        "        plt.legend(loc='upper left')\n",
        "        plt.xlabel('Epochs')\n",
        "        plt.ylabel('Training loss')   \n",
        "    # Plotting testing accuracy vs Epochs\n",
        "    fig2 = plt.figure(2)        \n",
        "    plt.plot(range(epoch+1),testAcc,'r-',label='LeNet-5')        \n",
        "        \n",
        "    if epoch==0:\n",
        "        plt.legend(loc='upper left')\n",
        "        plt.xlabel('Epochs')\n",
        "        plt.ylabel('Testing accuracy')    \n",
        "    epochEnd = time.time()-epochStart\n",
        "    print('Iteration: {:.0f} /{:.0f}  ; LeNet:  Training Loss: {:.6f} ; Testing Acc: {:.3f} ; Time consumed: {:.0f}m {:.0f}s '\\\n",
        "          .format(epoch + 1,iterations,avgTrainLoss,avgTestAcc*100,epochEnd//60,epochEnd%60))"
      ],
      "execution_count": 15,
      "outputs": [
        {
          "output_type": "stream",
          "text": [
            "Iteration: 1 /15  ; LeNet:  Training Loss: 0.000385 ; Testing Acc: 97.500 ; Time consumed: 0m 7s \n",
            "Iteration: 2 /15  ; LeNet:  Training Loss: 0.000363 ; Testing Acc: 97.620 ; Time consumed: 0m 7s \n",
            "Iteration: 3 /15  ; LeNet:  Training Loss: 0.000343 ; Testing Acc: 97.740 ; Time consumed: 0m 7s \n",
            "Iteration: 4 /15  ; LeNet:  Training Loss: 0.000325 ; Testing Acc: 97.910 ; Time consumed: 0m 7s \n",
            "Iteration: 5 /15  ; LeNet:  Training Loss: 0.000311 ; Testing Acc: 97.920 ; Time consumed: 0m 7s \n",
            "Iteration: 6 /15  ; LeNet:  Training Loss: 0.000299 ; Testing Acc: 98.030 ; Time consumed: 0m 7s \n",
            "Iteration: 7 /15  ; LeNet:  Training Loss: 0.000286 ; Testing Acc: 98.050 ; Time consumed: 0m 7s \n",
            "Iteration: 8 /15  ; LeNet:  Training Loss: 0.000275 ; Testing Acc: 98.080 ; Time consumed: 0m 7s \n",
            "Iteration: 9 /15  ; LeNet:  Training Loss: 0.000264 ; Testing Acc: 98.160 ; Time consumed: 0m 7s \n",
            "Iteration: 10 /15  ; LeNet:  Training Loss: 0.000253 ; Testing Acc: 98.170 ; Time consumed: 0m 7s \n",
            "Iteration: 11 /15  ; LeNet:  Training Loss: 0.000244 ; Testing Acc: 98.130 ; Time consumed: 0m 7s \n",
            "Iteration: 12 /15  ; LeNet:  Training Loss: 0.000238 ; Testing Acc: 98.240 ; Time consumed: 0m 7s \n",
            "Iteration: 13 /15  ; LeNet:  Training Loss: 0.000233 ; Testing Acc: 98.260 ; Time consumed: 0m 7s \n",
            "Iteration: 14 /15  ; LeNet:  Training Loss: 0.000223 ; Testing Acc: 98.370 ; Time consumed: 0m 7s \n",
            "Iteration: 15 /15  ; LeNet:  Training Loss: 0.000216 ; Testing Acc: 98.390 ; Time consumed: 0m 7s \n"
          ],
          "name": "stdout"
        },
        {
          "output_type": "display_data",
          "data": {
            "image/png": "[encoded data removed]",
            "text/plain": [
              "<Figure size 432x288 with 1 Axes>"
            ]
          },
          "metadata": {
            "tags": []
          }
        },
        {
          "output_type": "display_data",
          "data": {
            "image/png": "[encoded data removed]",
            "text/plain": [
              "<Figure size 432x288 with 1 Axes>"
            ]
          },
          "metadata": {
            "tags": []
          }
        }
      ]
    },
    {
      "cell_type": "code",
      "metadata": {
        "id": "VcW5KZY8mGaq",
        "colab_type": "code",
        "colab": {}
      },
      "source": [
        ""
      ],
      "execution_count": 0,
      "outputs": []
    }
  ]
}